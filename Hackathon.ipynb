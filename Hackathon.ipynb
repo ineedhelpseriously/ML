{
 "cells": [
  {
   "cell_type": "code",
   "execution_count": 2,
   "metadata": {},
   "outputs": [
    {
     "name": "stderr",
     "output_type": "stream",
     "text": [
      "C:\\Users\\kakan\\AppData\\Local\\Packages\\PythonSoftwareFoundation.Python.3.11_qbz5n2kfra8p0\\LocalCache\\local-packages\\Python311\\site-packages\\sklearn\\utils\\validation.py:2739: UserWarning: X does not have valid feature names, but StandardScaler was fitted with feature names\n",
      "  warnings.warn(\n"
     ]
    },
    {
     "name": "stdout",
     "output_type": "stream",
     "text": [
      "Validation Accuracy: 0.9963\n",
      "Validation F1 Score: 0.9963\n",
      "Predictions saved to Test_Predictions.csv\n"
     ]
    }
   ],
   "source": [
    "import pandas as pd\n",
    "from sklearn.model_selection import train_test_split\n",
    "from sklearn.preprocessing import LabelEncoder, StandardScaler\n",
    "from sklearn.impute import SimpleImputer\n",
    "from sklearn.ensemble import RandomForestClassifier\n",
    "from sklearn.metrics import accuracy_score, f1_score\n",
    "\n",
    "# Load datasets\n",
    "train_df = pd.read_csv(\"Train_Data.csv\")\n",
    "test_df = pd.read_csv(\"Test_Data.csv\")\n",
    "\n",
    "# Handling missing values using mean imputation for numerical features\n",
    "imputer = SimpleImputer(strategy=\"mean\")\n",
    "train_df.iloc[:, :-1] = imputer.fit_transform(train_df.iloc[:, :-1])\n",
    "test_df = imputer.transform(test_df)\n",
    "\n",
    "# Encoding the target variable\n",
    "label_encoder = LabelEncoder()\n",
    "train_df[\"Sepssis\"] = label_encoder.fit_transform(train_df[\"Sepssis\"])\n",
    "\n",
    "# Splitting features and target variable\n",
    "X = train_df.drop(columns=[\"Sepssis\"])\n",
    "y = train_df[\"Sepssis\"]\n",
    "\n",
    "# Standardizing the features\n",
    "scaler = StandardScaler()\n",
    "X = scaler.fit_transform(X)\n",
    "test_df = scaler.transform(test_df)\n",
    "\n",
    "# Splitting training data for validation\n",
    "X_train, X_val, y_train, y_val = train_test_split(X, y, test_size=0.2, random_state=42)\n",
    "\n",
    "# Training a Random Forest Classifier\n",
    "model = RandomForestClassifier(n_estimators=100, random_state=42)\n",
    "model.fit(X_train, y_train)\n",
    "\n",
    "# Predicting on validation set\n",
    "y_pred = model.predict(X_val)\n",
    "\n",
    "# Calculating accuracy and F1 score\n",
    "accuracy = accuracy_score(y_val, y_pred)\n",
    "f1 = f1_score(y_val, y_pred)\n",
    "print(f\"Validation Accuracy: {accuracy:.4f}\")\n",
    "print(f\"Validation F1 Score: {f1:.4f}\")\n",
    "\n",
    "# Predicting on test dataset\n",
    "test_predictions = model.predict(test_df)\n",
    "test_predictions = label_encoder.inverse_transform(test_predictions)\n",
    "\n",
    "# Saving predictions\n",
    "test_results = pd.DataFrame(test_predictions, columns=[\"Sepssis Prediction\"])\n",
    "test_results.to_csv(\"Test_Predictions.csv\", index=False)\n",
    "print(\"Predictions saved to Test_Predictions.csv\")"
   ]
  }
 ],
 "metadata": {
  "kernelspec": {
   "display_name": "Python 3",
   "language": "python",
   "name": "python3"
  },
  "language_info": {
   "codemirror_mode": {
    "name": "ipython",
    "version": 3
   },
   "file_extension": ".py",
   "mimetype": "text/x-python",
   "name": "python",
   "nbconvert_exporter": "python",
   "pygments_lexer": "ipython3",
   "version": "3.11.9"
  }
 },
 "nbformat": 4,
 "nbformat_minor": 2
}

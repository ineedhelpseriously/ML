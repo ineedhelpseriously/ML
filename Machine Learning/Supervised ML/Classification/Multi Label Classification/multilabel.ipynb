{
 "cells": [
  {
   "cell_type": "code",
   "execution_count": 13,
   "id": "cb7507f2",
   "metadata": {},
   "outputs": [],
   "source": [
    "import pandas as pd\n",
    "import numpy as np\n",
    "import seaborn as sns\n",
    "import matplotlib.pyplot as plt\n",
    "from IPython.display import display, HTML"
   ]
  },
  {
   "cell_type": "code",
   "execution_count": 14,
   "id": "596d0a5f",
   "metadata": {},
   "outputs": [],
   "source": [
    "data=pd.read_csv('MovieGenre.csv', encoding='latin-1')"
   ]
  },
  {
   "cell_type": "code",
   "execution_count": 15,
   "id": "247e75ec",
   "metadata": {},
   "outputs": [],
   "source": [
    "data = data.drop(columns=['imdbId', 'Imdb Link', 'Poster'])"
   ]
  },
  {
   "cell_type": "code",
   "execution_count": 16,
   "id": "4882f3fa",
   "metadata": {},
   "outputs": [],
   "source": [
    "data = data.dropna(subset=[\"Genre\", \"IMDB Score\", \"Title\"])"
   ]
  },
  {
   "cell_type": "code",
   "execution_count": 17,
   "id": "70410eb9",
   "metadata": {},
   "outputs": [
    {
     "data": {
      "application/vnd.microsoft.datawrangler.viewer.v0+json": {
       "columns": [
        {
         "name": "index",
         "rawType": "int64",
         "type": "integer"
        },
        {
         "name": "Title",
         "rawType": "object",
         "type": "string"
        },
        {
         "name": "IMDB Score",
         "rawType": "float64",
         "type": "float"
        },
        {
         "name": "Genre",
         "rawType": "object",
         "type": "string"
        }
       ],
       "ref": "be1b0381-1b58-4c8a-82b5-43650b0d2539",
       "rows": [
        [
         "0",
         "Toy Story (1995)",
         "8.3",
         "Animation|Adventure|Comedy"
        ],
        [
         "1",
         "Jumanji (1995)",
         "6.9",
         "Action|Adventure|Family"
        ],
        [
         "2",
         "Grumpier Old Men (1995)",
         "6.6",
         "Comedy|Romance"
        ],
        [
         "3",
         "Waiting to Exhale (1995)",
         "5.7",
         "Comedy|Drama|Romance"
        ],
        [
         "4",
         "Father of the Bride Part II (1995)",
         "5.9",
         "Comedy|Family|Romance"
        ]
       ],
       "shape": {
        "columns": 3,
        "rows": 5
       }
      },
      "text/html": [
       "<div>\n",
       "<style scoped>\n",
       "    .dataframe tbody tr th:only-of-type {\n",
       "        vertical-align: middle;\n",
       "    }\n",
       "\n",
       "    .dataframe tbody tr th {\n",
       "        vertical-align: top;\n",
       "    }\n",
       "\n",
       "    .dataframe thead th {\n",
       "        text-align: right;\n",
       "    }\n",
       "</style>\n",
       "<table border=\"1\" class=\"dataframe\">\n",
       "  <thead>\n",
       "    <tr style=\"text-align: right;\">\n",
       "      <th></th>\n",
       "      <th>Title</th>\n",
       "      <th>IMDB Score</th>\n",
       "      <th>Genre</th>\n",
       "    </tr>\n",
       "  </thead>\n",
       "  <tbody>\n",
       "    <tr>\n",
       "      <th>0</th>\n",
       "      <td>Toy Story (1995)</td>\n",
       "      <td>8.3</td>\n",
       "      <td>Animation|Adventure|Comedy</td>\n",
       "    </tr>\n",
       "    <tr>\n",
       "      <th>1</th>\n",
       "      <td>Jumanji (1995)</td>\n",
       "      <td>6.9</td>\n",
       "      <td>Action|Adventure|Family</td>\n",
       "    </tr>\n",
       "    <tr>\n",
       "      <th>2</th>\n",
       "      <td>Grumpier Old Men (1995)</td>\n",
       "      <td>6.6</td>\n",
       "      <td>Comedy|Romance</td>\n",
       "    </tr>\n",
       "    <tr>\n",
       "      <th>3</th>\n",
       "      <td>Waiting to Exhale (1995)</td>\n",
       "      <td>5.7</td>\n",
       "      <td>Comedy|Drama|Romance</td>\n",
       "    </tr>\n",
       "    <tr>\n",
       "      <th>4</th>\n",
       "      <td>Father of the Bride Part II (1995)</td>\n",
       "      <td>5.9</td>\n",
       "      <td>Comedy|Family|Romance</td>\n",
       "    </tr>\n",
       "  </tbody>\n",
       "</table>\n",
       "</div>"
      ],
      "text/plain": [
       "                                Title  IMDB Score                       Genre\n",
       "0                    Toy Story (1995)         8.3  Animation|Adventure|Comedy\n",
       "1                      Jumanji (1995)         6.9     Action|Adventure|Family\n",
       "2             Grumpier Old Men (1995)         6.6              Comedy|Romance\n",
       "3            Waiting to Exhale (1995)         5.7        Comedy|Drama|Romance\n",
       "4  Father of the Bride Part II (1995)         5.9       Comedy|Family|Romance"
      ]
     },
     "execution_count": 17,
     "metadata": {},
     "output_type": "execute_result"
    }
   ],
   "source": [
    "data.head()"
   ]
  },
  {
   "cell_type": "code",
   "execution_count": 18,
   "id": "9706bb3e",
   "metadata": {},
   "outputs": [],
   "source": [
    "data['Genre_list'] = data['Genre'].apply(lambda x: x.split('|'))"
   ]
  },
  {
   "cell_type": "code",
   "execution_count": 19,
   "id": "8a85ffd4",
   "metadata": {},
   "outputs": [
    {
     "data": {
      "application/vnd.microsoft.datawrangler.viewer.v0+json": {
       "columns": [
        {
         "name": "index",
         "rawType": "int64",
         "type": "integer"
        },
        {
         "name": "0",
         "rawType": "object",
         "type": "string"
        }
       ],
       "ref": "9883e8dd-1bdf-4c29-8262-2f0774596637",
       "rows": [
        [
         "0",
         "Action"
        ],
        [
         "1",
         "Adult"
        ],
        [
         "2",
         "Adventure"
        ],
        [
         "3",
         "Animation"
        ],
        [
         "4",
         "Biography"
        ],
        [
         "5",
         "Comedy"
        ],
        [
         "6",
         "Crime"
        ],
        [
         "7",
         "Documentary"
        ],
        [
         "8",
         "Drama"
        ],
        [
         "9",
         "Family"
        ],
        [
         "10",
         "Fantasy"
        ],
        [
         "11",
         "Film-Noir"
        ],
        [
         "12",
         "Game-Show"
        ],
        [
         "13",
         "History"
        ],
        [
         "14",
         "Horror"
        ],
        [
         "15",
         "Music"
        ],
        [
         "16",
         "Musical"
        ],
        [
         "17",
         "Mystery"
        ],
        [
         "18",
         "News"
        ],
        [
         "19",
         "Reality-TV"
        ],
        [
         "20",
         "Romance"
        ],
        [
         "21",
         "Sci-Fi"
        ],
        [
         "22",
         "Short"
        ],
        [
         "23",
         "Sport"
        ],
        [
         "24",
         "Talk-Show"
        ],
        [
         "25",
         "Thriller"
        ],
        [
         "26",
         "War"
        ],
        [
         "27",
         "Western"
        ]
       ],
       "shape": {
        "columns": 1,
        "rows": 28
       }
      },
      "text/plain": [
       "array(['Action', 'Adult', 'Adventure', 'Animation', 'Biography', 'Comedy',\n",
       "       'Crime', 'Documentary', 'Drama', 'Family', 'Fantasy', 'Film-Noir',\n",
       "       'Game-Show', 'History', 'Horror', 'Music', 'Musical', 'Mystery',\n",
       "       'News', 'Reality-TV', 'Romance', 'Sci-Fi', 'Short', 'Sport',\n",
       "       'Talk-Show', 'Thriller', 'War', 'Western'], dtype=object)"
      ]
     },
     "metadata": {},
     "output_type": "display_data"
    }
   ],
   "source": [
    "from sklearn.preprocessing import MultiLabelBinarizer\n",
    "\n",
    "mlb = MultiLabelBinarizer()\n",
    "y = mlb.fit_transform(data['Genre_list'])\n",
    "\n",
    "display(mlb.classes_)"
   ]
  },
  {
   "cell_type": "code",
   "execution_count": 20,
   "id": "de79692b",
   "metadata": {},
   "outputs": [],
   "source": [
    "X_text = data['Title']"
   ]
  },
  {
   "cell_type": "code",
   "execution_count": 21,
   "id": "fff06df4",
   "metadata": {},
   "outputs": [],
   "source": [
    "X_score = data['IMDB Score'].values.reshape(-1, 1)"
   ]
  },
  {
   "cell_type": "code",
   "execution_count": 22,
   "id": "0d735f3f",
   "metadata": {},
   "outputs": [],
   "source": [
    "from sklearn.feature_extraction.text import TfidfVectorizer\n",
    "from sklearn.preprocessing import StandardScaler\n",
    "from scipy.sparse import hstack, csr_matrix\n",
    "\n",
    "\n",
    "tfidf = TfidfVectorizer(max_features=5000, stop_words='english')\n",
    "X_tfidf = tfidf.fit_transform(X_text)\n",
    "\n",
    "scaler = StandardScaler()\n",
    "X_score_scaled = scaler.fit_transform(X_score)\n",
    "\n",
    "X_combined = hstack([X_tfidf, csr_matrix(X_score_scaled)])"
   ]
  },
  {
   "cell_type": "code",
   "execution_count": 23,
   "id": "66afe019",
   "metadata": {},
   "outputs": [],
   "source": [
    "from skmultilearn.model_selection import iterative_train_test_split\n",
    "\n",
    "X_array = X_combined.toarray()\n",
    "\n",
    "X_train, y_train, X_test, y_test = iterative_train_test_split(\n",
    "    X_array, y, test_size=0.2\n",
    ")"
   ]
  },
  {
   "cell_type": "code",
   "execution_count": 27,
   "id": "e734762d",
   "metadata": {},
   "outputs": [],
   "source": [
    "from sklearn.metrics import hamming_loss\n",
    "from sklearn.metrics import accuracy_score"
   ]
  },
  {
   "cell_type": "code",
   "execution_count": 28,
   "id": "05b13b49",
   "metadata": {},
   "outputs": [
    {
     "name": "stderr",
     "output_type": "stream",
     "text": [
      "C:\\Users\\kakan\\AppData\\Local\\Packages\\PythonSoftwareFoundation.Python.3.12_qbz5n2kfra8p0\\LocalCache\\local-packages\\Python312\\site-packages\\sklearn\\linear_model\\_logistic.py:465: ConvergenceWarning: lbfgs failed to converge (status=1):\n",
      "STOP: TOTAL NO. OF ITERATIONS REACHED LIMIT.\n",
      "\n",
      "Increase the number of iterations (max_iter) or scale the data as shown in:\n",
      "    https://scikit-learn.org/stable/modules/preprocessing.html\n",
      "Please also refer to the documentation for alternative solver options:\n",
      "    https://scikit-learn.org/stable/modules/linear_model.html#logistic-regression\n",
      "  n_iter_i = _check_optimize_result(\n"
     ]
    },
    {
     "name": "stdout",
     "output_type": "stream",
     "text": [
      "Hamming Loss: 0.0700\n",
      "Subset Accuracy: 0.11066849246856716\n"
     ]
    }
   ],
   "source": [
    "from sklearn.multioutput import MultiOutputClassifier\n",
    "from sklearn.linear_model import LogisticRegression\n",
    "\n",
    "model = MultiOutputClassifier(LogisticRegression(random_state=42))\n",
    "model.fit(X_train, y_train)\n",
    "y_pred = model.predict(X_test)\n",
    "print(f\"Hamming Loss: {hamming_loss(y_test, y_pred):.4f}\")\n",
    "acc = accuracy_score(y_test, y_pred)\n",
    "print(\"Subset Accuracy:\", acc)"
   ]
  }
 ],
 "metadata": {
  "kernelspec": {
   "display_name": "Python 3",
   "language": "python",
   "name": "python3"
  },
  "language_info": {
   "codemirror_mode": {
    "name": "ipython",
    "version": 3
   },
   "file_extension": ".py",
   "mimetype": "text/x-python",
   "name": "python",
   "nbconvert_exporter": "python",
   "pygments_lexer": "ipython3",
   "version": "3.12.10"
  }
 },
 "nbformat": 4,
 "nbformat_minor": 5
}
